{
 "cells": [
  {
   "cell_type": "markdown",
   "id": "fb8bafa3",
   "metadata": {},
   "source": [
    "## we can also do as Fine-tuning, Grade Search, Hyper Parameter Tuning etc different kinds of Techniques\n"
   ]
  },
  {
   "cell_type": "code",
   "execution_count": 11,
   "id": "4aa8080f",
   "metadata": {},
   "outputs": [
    {
     "data": {
      "text/plain": [
       "array([22.264])"
      ]
     },
     "execution_count": 11,
     "metadata": {},
     "output_type": "execute_result"
    }
   ],
   "source": [
    "from joblib import dump, load\n",
    "import numpy as np\n",
    "model = load('RealEstates.joblib')\n",
    "\n",
    "features = np.array([[-0.43942006,  3.12628155, -1.12165014, -0.27288841, -1.42262747,\n",
    "       -0.23979304, -1.31238772,  2.61111401, -1.0016859 , -0.5778192 ,\n",
    "       -0.97491834,  0.41164221, -0.86091034]])\n",
    "\n",
    "model.predict(features)"
   ]
  }
 ],
 "metadata": {
  "kernelspec": {
   "display_name": "Python 3 (ipykernel)",
   "language": "python",
   "name": "python3"
  },
  "language_info": {
   "codemirror_mode": {
    "name": "ipython",
    "version": 3
   },
   "file_extension": ".py",
   "mimetype": "text/x-python",
   "name": "python",
   "nbconvert_exporter": "python",
   "pygments_lexer": "ipython3",
   "version": "3.10.0"
  }
 },
 "nbformat": 4,
 "nbformat_minor": 5
}
